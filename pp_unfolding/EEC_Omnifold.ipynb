{
 "cells": [
  {
   "cell_type": "code",
   "execution_count": 11,
   "id": "733ba683-ce48-4968-b819-89c4993d79c5",
   "metadata": {},
   "outputs": [
    {
     "name": "stdout",
     "output_type": "stream",
     "text": [
      "['/usr/lib64/python36.zip', '/usr/lib64/python3.6', '/usr/lib64/python3.6/lib-dynload', '', '/home/kdevereaux/.local/lib/python3.6/site-packages', '/usr/local/lib64/python3.6/site-packages', '/usr/local/lib/python3.6/site-packages', '/usr/lib64/python3.6/site-packages', '/usr/lib/python3.6/site-packages', '/usr/local/lib/python3.6/site-packages/IPython/extensions', '/home/kdevereaux/.ipython', '/home/kdevereaux/.local/lib/python3.6/site-packages']\n"
     ]
    }
   ],
   "source": [
    "import sys\n",
    "print(sys.path)"
   ]
  },
  {
   "cell_type": "code",
   "execution_count": 13,
   "id": "3eedee83-b19a-4832-af58-16be4f6176f9",
   "metadata": {},
   "outputs": [],
   "source": [
    "import numpy as np\n",
    "import pandas as pd\n",
    "import uproot as ur\n",
    "\n",
    "from keras.layers import Dense, Input\n",
    "from keras.models import Model\n",
    "\n",
    "import omnifold as of\n",
    "import os\n",
    "import tensorflow as tf\n",
    "\n",
    "from matplotlib import pyplot as plt\n",
    "from IPython.display import Image\n",
    "pd.set_option('display.max_columns', None) # to see all columns of df.head()"
   ]
  },
  {
   "cell_type": "code",
   "execution_count": 14,
   "id": "0dcb3c2f-da75-40a4-af1a-8994e86e915e",
   "metadata": {},
   "outputs": [],
   "source": [
    "#gpus = tf.config.experimental.list_physical_devices('GPU')\n",
    "#print(gpus)"
   ]
  },
  {
   "cell_type": "markdown",
   "id": "656516dd-37f6-4d4c-be99-e9bc920de36f",
   "metadata": {},
   "source": [
    "# [Omnifold Paper](https://journals.aps.org/prl/abstract/10.1103/PhysRevLett.124.182001) Background"
   ]
  },
  {
   "cell_type": "code",
   "execution_count": 15,
   "id": "ef55a89e-0034-4a80-a036-729e1e1d9abc",
   "metadata": {
    "tags": []
   },
   "outputs": [],
   "source": [
    "#Image(filename='Omnifold.png') "
   ]
  },
  {
   "cell_type": "markdown",
   "id": "12f354ba-b3ec-473e-a041-d92f81727416",
   "metadata": {},
   "source": [
    "|   |   |   |\n",
    "|---|---|---|\n",
    "|Synthetic Generator-Level Sim   | $\\theta_{0,G}$  | Truth-Level Sim  |\n",
    "|Synthetic Reconstruction-Level Sim   | $\\theta_{0,S}$   | Full Reco-Level Sim  |\n",
    "|Natural Reconstruction  | $\\theta_\\mathrm{unknown,S}$  | Observed Detector Data  |\n",
    "|Natural Truth   |$\\theta_\\mathrm{unknown,G}$   | Nature  |\n"
   ]
  },
  {
   "cell_type": "markdown",
   "id": "ba8a5ee5-e7ca-4981-a80a-8ca25d0345e7",
   "metadata": {},
   "source": [
    "___\n",
    "___"
   ]
  },
  {
   "cell_type": "markdown",
   "id": "59fa5a74-76cc-4272-aef7-ea0dc5b102e1",
   "metadata": {},
   "source": [
    "# Omnifold for EEC unfolding, (energy_weight, R_L, jet_pt)"
   ]
  },
  {
   "cell_type": "markdown",
   "id": "62beeb83-d1c8-4b9d-97bd-5a576e43f91c",
   "metadata": {},
   "source": [
    "#### we assume all imported root files consist of `TTree preprocessed` consiting of three columns `energy_weight`, `R_L`, and `jet_pt`"
   ]
  },
  {
   "cell_type": "markdown",
   "id": "3cd2b453-af50-4da3-810b-561f5c92676b",
   "metadata": {},
   "source": [
    "### Define variables to unfold"
   ]
  },
  {
   "cell_type": "code",
   "execution_count": 1,
   "id": "1b230e54-813d-4f3f-9968-1cbce7d6d438",
   "metadata": {},
   "outputs": [],
   "source": [
    "obs_features = [\"energy_weight\", \"R_L\", \"jet_pt\"]\n",
    "gen_features = obs_features\n",
    "\n",
    "labels = [\"energy weight\", \"$R_L$\", \"jet $p_T$\"]"
   ]
  },
  {
   "cell_type": "markdown",
   "id": "a4c7f97c-5e8e-47d0-889f-aa5635c9bc02",
   "metadata": {},
   "source": [
    "### Import \"natural reco\": ALICE measured (testing: PYTHIA8 generator-level)"
   ]
  },
  {
   "cell_type": "code",
   "execution_count": null,
   "id": "c85d8118-44e6-434e-9d3d-8084a29bc57e",
   "metadata": {},
   "outputs": [],
   "source": [
    "natural_reco_file = \"merged.root\"\n",
    "natural_reco_tree = ur.open(\"%s:Pythia/preprocessed\"%(natural_reco_file))\n",
    "natural_reco_df = natural_reco_tree.arrays(library=\"pd\") #open the TTree as a pandas data frame\n",
    "natural_reco_df = natural_reco_df[natural_reco_df[\"obs_hfs_pt\"] != 0] #remove empty entries"
   ]
  },
  {
   "cell_type": "markdown",
   "id": "ee886e18-4d88-4a7f-8654-d513fd16081e",
   "metadata": {},
   "source": [
    "### Import \"natural truth\": ALICE truth (testing: PYTHIA8 generator-level, unused during actuall unfolding) "
   ]
  },
  {
   "cell_type": "code",
   "execution_count": null,
   "id": "d221c313-048c-46e9-8db1-a86290e1235c",
   "metadata": {},
   "outputs": [],
   "source": [
    "natural_truth_file = \"all-h1-django.root\"\n",
    "natural_truth_tree = ur.open(\"%s:Django/minitree\"%(natural_reco_file))\n",
    "natural_truth_df = natural_reco_tree.arrays(library=\"pd\") #open the TTree as a pandas data frame\n",
    "natural_reco_df = natural_reco_df[natural_reco_df[\"obs_hfs_pt\"] != 0] #remove empty entries"
   ]
  },
  {
   "cell_type": "markdown",
   "id": "b6f91fd0-d647-4746-bd08-6b5d9af193ab",
   "metadata": {},
   "source": [
    "### Take a quick look at the data"
   ]
  },
  {
   "cell_type": "code",
   "execution_count": null,
   "id": "e75eefd1-fe17-4d30-9aca-23d6fba7906c",
   "metadata": {},
   "outputs": [],
   "source": [
    "natural_df.describe()"
   ]
  },
  {
   "cell_type": "markdown",
   "id": "8a0e6803-a1a4-4c5f-b6e1-8d57751b08f7",
   "metadata": {},
   "source": [
    "## Import \"Synthetic simulation\" [Rapgap], both generated and reconstructed level."
   ]
  },
  {
   "cell_type": "code",
   "execution_count": null,
   "id": "3cb960ab-40b9-4551-ba69-c37bed5c25cd",
   "metadata": {
    "tags": []
   },
   "outputs": [],
   "source": [
    "synthetic_file = \"all-h1-rapgap.root\"\n",
    "synth_tree = ur.open(\"%s:Rapgap/minitree\"%(synthetic_file))\n",
    "synth_df = synth_tree.arrays(library=\"pd\")\n",
    "synth_df = synth_df[synth_df[\"obs_hfs_pt\"] != 0]"
   ]
  },
  {
   "cell_type": "code",
   "execution_count": null,
   "id": "50564150-375a-45e9-8454-cf4d4c23b422",
   "metadata": {},
   "outputs": [],
   "source": [
    "synth_df.head(3) #look at 3 entries"
   ]
  },
  {
   "cell_type": "markdown",
   "id": "e45d03b3-42c8-4140-87f5-6128d0beae7a",
   "metadata": {},
   "source": [
    "### define 4 main datasets"
   ]
  },
  {
   "cell_type": "code",
   "execution_count": null,
   "id": "61e2d71c-b0ba-49b0-b087-7575dba1fb53",
   "metadata": {},
   "outputs": [],
   "source": [
    "theta_unknown_S = natural_df[obs_features].to_numpy() #Reconstructed Data\n",
    "theta_unknown_G = natural_df[gen_features].to_numpy() #Nature, which unfolded data approaches\n",
    "\n",
    "theta0_S = synth_df[obs_features].to_numpy() #Simulated, synthetic reco-level\n",
    "theta0_G = synth_df[gen_features].to_numpy() #Generated, synthetic truth-level"
   ]
  },
  {
   "cell_type": "markdown",
   "id": "9d3f392e-b84d-47a3-bece-508bca2f4f5a",
   "metadata": {},
   "source": [
    "### Ensure the samples have the same number of entries"
   ]
  },
  {
   "cell_type": "code",
   "execution_count": null,
   "id": "6f180e2a-2411-4725-a7d7-df946242fb54",
   "metadata": {},
   "outputs": [],
   "source": [
    "N_Events = min(np.shape(theta0_S)[0],np.shape(theta_unknown_S)[0])-1\n",
    "\n",
    "theta0_S = theta0_S[:N_Events]\n",
    "theta0_G = theta0_G[:N_Events]\n",
    "theta_unknown_S = theta_unknown_S[:N_Events]\n",
    "theta_unknown_G = theta_unknown_G[:N_Events]"
   ]
  },
  {
   "cell_type": "code",
   "execution_count": null,
   "id": "fb429ef3-f0fe-4fa7-b9c4-9f4e7564913a",
   "metadata": {},
   "outputs": [],
   "source": [
    "N = len(obs_features)\n",
    "\n",
    "binning = [np.linspace(0,80,100),np.linspace(-2,6,100),\n",
    "           np.linspace(10,80,100),np.linspace(-10,40,100),np.linspace(-2,2,100)]\n",
    "\n",
    "fig, axes = plt.subplots(2, 3, figsize=(15,7))\n",
    "\n",
    "for i,ax in enumerate(axes.ravel()):\n",
    "    if (i >= N): break\n",
    "    _,_,_=ax.hist(theta0_G[:,i],binning[i],color='blue',alpha=0.5,label=\"MC, true\")\n",
    "    _,_,_=ax.hist(theta0_S[:,i],binning[i],histtype=\"step\",color='black',ls=':',label=\"MC, reco\")\n",
    "    _,_,_=ax.hist(theta_unknown_G[:,i],binning[i],color='orange',alpha=0.5,label=\"Data, true\")\n",
    "    _,_,_=ax.hist(theta_unknown_S[:,i],binning[i],histtype=\"step\",color='black',label=\"Data, reco\")\n",
    "\n",
    "    ax.set_title(labels[i])\n",
    "    ax.set_xlabel(labels[i])\n",
    "    ax.set_ylabel(\"Events\")\n",
    "    ax.legend(frameon=False)\n",
    "    \n",
    "fig.tight_layout()"
   ]
  },
  {
   "cell_type": "code",
   "execution_count": null,
   "id": "ce3a8d57-5640-487a-a722-3efe79f18540",
   "metadata": {},
   "outputs": [],
   "source": [
    "inputs = Input((len(obs_features), ))\n",
    "hidden_layer_1 = Dense(50, activation='relu')(inputs)\n",
    "hidden_layer_2 = Dense(50, activation='relu')(hidden_layer_1)\n",
    "hidden_layer_3 = Dense(50, activation='relu')(hidden_layer_2)\n",
    "outputs = Dense(1, activation='sigmoid')(hidden_layer_3)\n",
    "model_dis = Model(inputs=inputs, outputs=outputs)"
   ]
  },
  {
   "cell_type": "code",
   "execution_count": null,
   "id": "2538e0db-feb5-45c8-97b4-1f974ab885d1",
   "metadata": {},
   "outputs": [],
   "source": [
    "N_Iterations = 2\n",
    "\n",
    "myweights = of.omnifold(theta0_G,theta0_S,theta_unknown_S,N_Iterations,model_dis)"
   ]
  },
  {
   "cell_type": "code",
   "execution_count": null,
   "id": "bfe66aad-d784-490f-aba7-bf38d7857163",
   "metadata": {},
   "outputs": [],
   "source": [
    "fig, axes = plt.subplots(2, 3, figsize=(15,7))\n",
    "\n",
    "for i,ax in enumerate(axes.ravel()):\n",
    "    if (i >= N): break\n",
    "    _,_,_=ax.hist(theta0_G[:,i],binning[i],color='blue',alpha=0.5,label=\"MC, true\")\n",
    "    _,_,_=ax.hist(theta_unknown_G[:,i],binning[i],color='orange',alpha=0.5,label=\"Data, true\")\n",
    "    _,_,_=ax.hist(theta0_G[:,i],weights=myweights[-1, 0, :],bins=binning[i],color='black',histtype=\"step\",label=\"OmniFolded\",lw=\"2\")\n",
    "\n",
    "    ax.set_title(labels[i])\n",
    "    ax.set_xlabel(labels[i])\n",
    "    ax.set_ylabel(\"Events\")\n",
    "    ax.legend(frameon=False)\n",
    "    \n",
    "fig.tight_layout()"
   ]
  },
  {
   "cell_type": "markdown",
   "id": "10bfb0ef-f8f7-4ec5-b230-694e755bc223",
   "metadata": {},
   "source": [
    "___\n",
    "___"
   ]
  },
  {
   "cell_type": "markdown",
   "id": "cc306ff8-934b-49ae-884b-3592f709b309",
   "metadata": {},
   "source": [
    "# OmniFold: DIY"
   ]
  },
  {
   "cell_type": "markdown",
   "id": "b76a4e6e-4da3-4c28-ab4d-a52004b728a0",
   "metadata": {},
   "source": [
    "### 1. Add Features, or create your own. Add iterations to the unfolding\n",
    "careful adding both: might take a while!"
   ]
  },
  {
   "cell_type": "markdown",
   "id": "db931825-c084-4acc-ba7f-cd45955e3597",
   "metadata": {},
   "source": [
    "### 2. Plot _unfolded_ electron observables: $\\Sigma_e = E_e - p_{z,e}, \\ \\ \\theta = 2\\arctan(e^{-\\eta})$"
   ]
  },
  {
   "cell_type": "markdown",
   "id": "d5dafec1-fb61-4039-af7d-134808e78dbc",
   "metadata": {
    "tags": []
   },
   "source": [
    "hint: unfolded distributions are just weighted histograms"
   ]
  },
  {
   "cell_type": "markdown",
   "id": "c5aa472f-efa5-4ecf-a321-311f51c24c6f",
   "metadata": {},
   "source": [
    "### 3. Plot at _unfolded_ x,y, and $Q^2$ distribution"
   ]
  },
  {
   "cell_type": "markdown",
   "id": "bf53ca3c-0f4f-479d-bc38-a25e84a5dac2",
   "metadata": {
    "tags": []
   },
   "source": [
    "Hint: $y = 1-\\frac{\\Sigma_e}{2E_0}, \\ \\ Q^2 = \\frac{E^2sin^2\\theta}{1-y}, \\ \\ x\\cdot E_p = \\frac{E(1+\\cos\\theta)}{2y}$"
   ]
  },
  {
   "cell_type": "code",
   "execution_count": null,
   "id": "af7ec6b5-e2f1-4d71-8507-14f2ec5f913e",
   "metadata": {},
   "outputs": [],
   "source": []
  }
 ],
 "metadata": {
  "kernelspec": {
   "display_name": "Python 3",
   "language": "python",
   "name": "python3"
  },
  "language_info": {
   "codemirror_mode": {
    "name": "ipython",
    "version": 3
   },
   "file_extension": ".py",
   "mimetype": "text/x-python",
   "name": "python",
   "nbconvert_exporter": "python",
   "pygments_lexer": "ipython3",
   "version": "3.6.8"
  }
 },
 "nbformat": 4,
 "nbformat_minor": 5
}
