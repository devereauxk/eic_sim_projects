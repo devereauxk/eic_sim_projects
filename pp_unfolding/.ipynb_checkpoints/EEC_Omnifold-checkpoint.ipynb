{
 "cells": [
  {
   "cell_type": "code",
   "execution_count": 11,
   "id": "733ba683-ce48-4968-b819-89c4993d79c5",
   "metadata": {},
   "outputs": [
    {
     "name": "stdout",
     "output_type": "stream",
     "text": [
      "['/usr/lib64/python36.zip', '/usr/lib64/python3.6', '/usr/lib64/python3.6/lib-dynload', '', '/home/kdevereaux/.local/lib/python3.6/site-packages', '/usr/local/lib64/python3.6/site-packages', '/usr/local/lib/python3.6/site-packages', '/usr/lib64/python3.6/site-packages', '/usr/lib/python3.6/site-packages', '/usr/local/lib/python3.6/site-packages/IPython/extensions', '/home/kdevereaux/.ipython', '/home/kdevereaux/.local/lib/python3.6/site-packages']\n"
     ]
    }
   ],
   "source": [
    "import sys\n",
    "print(sys.path)"
   ]
  },
  {
   "cell_type": "code",
   "execution_count": 13,
   "id": "3eedee83-b19a-4832-af58-16be4f6176f9",
   "metadata": {},
   "outputs": [],
   "source": [
    "import numpy as np\n",
    "import pandas as pd\n",
    "import uproot as ur\n",
    "\n",
    "from keras.layers import Dense, Input\n",
    "from keras.models import Model\n",
    "\n",
    "import omnifold as of\n",
    "import os\n",
    "import tensorflow as tf\n",
    "\n",
    "from matplotlib import pyplot as plt\n",
    "from IPython.display import Image\n",
    "pd.set_option('display.max_columns', None) # to see all columns of df.head()"
   ]
  },
  {
   "cell_type": "code",
   "execution_count": 14,
   "id": "0dcb3c2f-da75-40a4-af1a-8994e86e915e",
   "metadata": {},
   "outputs": [],
   "source": [
    "#gpus = tf.config.experimental.list_physical_devices('GPU')\n",
    "#print(gpus)"
   ]
  },
  {
   "cell_type": "markdown",
   "id": "656516dd-37f6-4d4c-be99-e9bc920de36f",
   "metadata": {},
   "source": [
    "# [Omnifold Paper](https://journals.aps.org/prl/abstract/10.1103/PhysRevLett.124.182001) Background"
   ]
  },
  {
   "cell_type": "code",
   "execution_count": 15,
   "id": "ef55a89e-0034-4a80-a036-729e1e1d9abc",
   "metadata": {
    "tags": []
   },
   "outputs": [],
   "source": [
    "#Image(filename='Omnifold.png') "
   ]
  },
  {
   "cell_type": "markdown",
   "id": "12f354ba-b3ec-473e-a041-d92f81727416",
   "metadata": {},
   "source": [
    "|   |   |   |\n",
    "|---|---|---|\n",
    "|Synthetic Generator-Level Sim   | $\\theta_{0,G}$  | Truth-Level Sim  |\n",
    "|Synthetic Reconstruction-Level Sim   | $\\theta_{0,S}$   | Full Reco-Level Sim  |\n",
    "|Natural Reconstruction  | $\\theta_\\mathrm{unknown,S}$  | Observed Detector Data  |\n",
    "|Natural Truth   |$\\theta_\\mathrm{unknown,G}$   | Nature  |\n"
   ]
  },
  {
   "cell_type": "markdown",
   "id": "6828c783-3676-4b69-9c06-dd7d4cd9616c",
   "metadata": {},
   "source": [
    "___\n",
    "___"
   ]
  },
  {
   "cell_type": "markdown",
   "id": "c6081f8d-41e5-459a-b51c-01b2439d67ea",
   "metadata": {},
   "source": [
    "# OmniFold Example 1: 1D Gaussian [[Original Repo](https://github.com/hep-lbdl/OmniFold)]"
   ]
  },
  {
   "cell_type": "code",
   "execution_count": 5,
   "id": "ef6ade76-2187-485d-822a-e66ec6dd4898",
   "metadata": {},
   "outputs": [],
   "source": [
    "N_Events = 10**5\n",
    "\n",
    "#Synthetic\n",
    "theta0_G = np.random.normal(0.2,0.8,N_Events)  # Generator-level synthetic sample\n",
    "theta0_S = np.array([(x + np.random.normal(0, 0.5)) for x in theta0_G])  # Detector smearing for synthetic sample\n",
    "\n",
    "theta0 = np.stack([theta0_G, theta0_S], axis=1)\n",
    "\n",
    "#Natural\n",
    "theta_unknown_G = np.random.normal(0,1, N_Events)\n",
    "theta_unknown_S = np.array([(x + np.random.normal(0, 0.5)) for x in theta_unknown_G]) "
   ]
  },
  {
   "cell_type": "code",
   "execution_count": 6,
   "id": "fda8a9e5-dafe-402f-8905-98fab978f508",
   "metadata": {},
   "outputs": [
    {
     "data": {
      "text/plain": [
       "<matplotlib.legend.Legend at 0x7f0a38f95490>"
      ]
     },
     "execution_count": 6,
     "metadata": {},
     "output_type": "execute_result"
    },
    {
     "data": {
      "image/png": "[encoded data removed]",
      "text/plain": [
       "<Figure size 432x288 with 1 Axes>"
      ]
     },
     "metadata": {
      "needs_background": "light"
     },
     "output_type": "display_data"
    }
   ],
   "source": [
    "_,_,_=plt.hist(theta0_G,bins=np.linspace(-3,3,20),color='blue',alpha=0.5,label=\"MC, true\")\n",
    "_,_,_=plt.hist(theta0_S,bins=np.linspace(-3,3,20),histtype=\"step\",color='black',ls=':',label=\"MC, reco\")\n",
    "_,_,_=plt.hist(theta_unknown_G,bins=np.linspace(-3,3,20),color='orange',alpha=0.5,label=\"Data, true\")\n",
    "_,_,_=plt.hist(theta_unknown_S,bins=np.linspace(-3,3,20),histtype=\"step\",color='black',label=\"Data, reco\")\n",
    "plt.xlabel(\"x\")\n",
    "plt.ylabel(\"events\")\n",
    "plt.legend(frameon=False)"
   ]
  },
  {
   "cell_type": "markdown",
   "id": "d185cd40-f730-4e73-8c1c-5f2ddf824b59",
   "metadata": {},
   "source": [
    "### Define the Model Architecture"
   ]
  },
  {
   "cell_type": "code",
   "execution_count": 7,
   "id": "1e61dec3-1f2d-47ff-913d-42a69eccf0fd",
   "metadata": {},
   "outputs": [
    {
     "name": "stderr",
     "output_type": "stream",
     "text": [
      "2023-05-04 01:24:57.044843: W tensorflow/core/common_runtime/gpu/gpu_device.cc:1956] Cannot dlopen some GPU libraries. Please make sure the missing libraries mentioned above are installed properly if you would like to use GPU. Follow the guide at https://www.tensorflow.org/install/gpu for how to download and setup the required libraries for your platform.\n",
      "Skipping registering GPU devices...\n"
     ]
    }
   ],
   "source": [
    "inputs = Input((1, ))\n",
    "hidden_layer_1 = Dense(50, activation='relu')(inputs)\n",
    "hidden_layer_2 = Dense(50, activation='relu')(hidden_layer_1)\n",
    "hidden_layer_3 = Dense(50, activation='relu')(hidden_layer_2)\n",
    "outputs = Dense(1, activation='sigmoid')(hidden_layer_3)\n",
    "model_gaus = Model(inputs=inputs, outputs=outputs)"
   ]
  },
  {
   "cell_type": "code",
   "execution_count": 8,
   "id": "c5635c65-8850-4130-b246-52a91f3c7030",
   "metadata": {},
   "outputs": [
    {
     "name": "stdout",
     "output_type": "stream",
     "text": [
      "10/10 [==============================] - 0s 2ms/step\n",
      "10/10 [==============================] - 0s 2ms/step\n",
      "10/10 [==============================] - 0s 2ms/step\n",
      "10/10 [==============================] - 0s 2ms/step\n"
     ]
    }
   ],
   "source": [
    "N_Iterations = 2\n",
    "theta0 = np.transpose([theta0_G, theta0_S])\n",
    "myweights = of.omnifold(theta0,theta_unknown_S,N_Iterations,model_gaus)"
   ]
  },
  {
   "cell_type": "markdown",
   "id": "560ef393-02f4-47d1-9c61-eef3b918888a",
   "metadata": {},
   "source": [
    "### Plot Omnifold, the weighted $\\theta_G$ distribution"
   ]
  },
  {
   "cell_type": "code",
   "execution_count": 9,
   "id": "5650c3ab-e01f-41e5-807d-f5bbe53e5aae",
   "metadata": {},
   "outputs": [
    {
     "data": {
      "text/plain": [
       "<matplotlib.legend.Legend at 0x7f09a4587040>"
      ]
     },
     "execution_count": 9,
     "metadata": {},
     "output_type": "execute_result"
    },
    {
     "data": {
      "image/png": "[encoded data removed]",
      "text/plain": [
       "<Figure size 432x288 with 1 Axes>"
      ]
     },
     "metadata": {
      "needs_background": "light"
     },
     "output_type": "display_data"
    }
   ],
   "source": [
    "_,_,_=plt.hist(theta0_G,bins=np.linspace(-3,3,20),color='blue',alpha=0.5,label=\"MC, true\")\n",
    "_,_,_=plt.hist(theta_unknown_G,bins=np.linspace(-3,3,20),color='orange',alpha=0.5,label=\"Data, true\")\n",
    "_,_,_=plt.hist(theta0_G,weights=myweights[-1, 0, :], bins=np.linspace(-3,3,20),color='black',histtype=\"step\",label=\"OmniFolded\",lw=\"2\")\n",
    "plt.xlabel(\"x\")\n",
    "plt.ylabel(\"events\")\n",
    "plt.legend(frameon=False)"
   ]
  },
  {
   "cell_type": "markdown",
   "id": "5ca3d5f3-c993-40fc-aa52-4413d4205a18",
   "metadata": {},
   "source": [
    "### $\\rightarrow$ Try increasing from 2 to 5 iterations yourself"
   ]
  },
  {
   "cell_type": "markdown",
   "id": "ba8a5ee5-e7ca-4981-a80a-8ca25d0345e7",
   "metadata": {},
   "source": [
    "___\n",
    "___"
   ]
  },
  {
   "cell_type": "markdown",
   "id": "59fa5a74-76cc-4272-aef7-ea0dc5b102e1",
   "metadata": {},
   "source": [
    "# Omnifold Example 2: Realistic DIS Reconstruction – Lepton + HFS"
   ]
  },
  {
   "cell_type": "code",
   "execution_count": 10,
   "id": "f946af4c-b9fc-4c0a-b33f-db5a22248d14",
   "metadata": {},
   "outputs": [],
   "source": [
    "#Image(filename='DIS_ML.png')"
   ]
  },
  {
   "cell_type": "markdown",
   "id": "f74da6d9-3170-4802-b917-e6e7cfbe4c20",
   "metadata": {},
   "source": [
    "### Many thanks to _Miguel Arratia, Owen Long_, and _Daniel Britzger_ for letting us use their data from this awesome [paper   ](https://www.sciencedirect.com/science/article/pii/S0168900221010445?ref=cra_js_challenge&fr=RR-1) on reconstructing DIS events using Deep Learning."
   ]
  },
  {
   "cell_type": "markdown",
   "id": "a4c7f97c-5e8e-47d0-889f-aa5635c9bc02",
   "metadata": {},
   "source": [
    "### Import \"Natural.\" In this tutorial, reconstructed-level Django will be our proxy of *_measured data_*."
   ]
  },
  {
   "cell_type": "code",
   "execution_count": 11,
   "id": "c85d8118-44e6-434e-9d3d-8084a29bc57e",
   "metadata": {},
   "outputs": [
    {
     "ename": "FileNotFoundError",
     "evalue": "file not found\n\n    'all-h1-django.root'\n\nFiles may be specified as:\n   * str/bytes: relative or absolute filesystem path or URL, without any colons\n         other than Windows drive letter or URL schema.\n         Examples: \"rel/file.root\", \"C:\\abs\\file.root\", \"http://where/what.root\"\n   * str/bytes: same with an object-within-ROOT path, separated by a colon.\n         Example: \"rel/file.root:tdirectory/ttree\"\n   * pathlib.Path: always interpreted as a filesystem path or URL only (no\n         object-within-ROOT path), regardless of whether there are any colons.\n         Examples: Path(\"rel:/file.root\"), Path(\"/abs/path:stuff.root\")\n\nFunctions that accept many files (uproot.iterate, etc.) also allow:\n   * glob syntax in str/bytes and pathlib.Path.\n         Examples: Path(\"rel/*.root\"), \"/abs/*.root:tdirectory/ttree\"\n   * dict: keys are filesystem paths, values are objects-within-ROOT paths.\n         Example: {\"/data_v1/*.root\": \"ttree_v1\", \"/data_v2/*.root\": \"ttree_v2\"}\n   * already-open TTree objects.\n   * iterables of the above.\n",
     "output_type": "error",
     "traceback": [
      "\u001b[0;31m---------------------------------------------------------------------------\u001b[0m",
      "\u001b[0;31mFileNotFoundError\u001b[0m                         Traceback (most recent call last)",
      "\u001b[0;32m~/.local/perlmutter/3.9-anaconda-2021.11/lib/python3.9/site-packages/uproot/source/file.py\u001b[0m in \u001b[0;36m_open\u001b[0;34m(self)\u001b[0m\n\u001b[1;32m    111\u001b[0m         \u001b[0;32mtry\u001b[0m\u001b[0;34m:\u001b[0m\u001b[0;34m\u001b[0m\u001b[0;34m\u001b[0m\u001b[0m\n\u001b[0;32m--> 112\u001b[0;31m             \u001b[0mself\u001b[0m\u001b[0;34m.\u001b[0m\u001b[0m_file\u001b[0m \u001b[0;34m=\u001b[0m \u001b[0mnumpy\u001b[0m\u001b[0;34m.\u001b[0m\u001b[0mmemmap\u001b[0m\u001b[0;34m(\u001b[0m\u001b[0mself\u001b[0m\u001b[0;34m.\u001b[0m\u001b[0m_file_path\u001b[0m\u001b[0;34m,\u001b[0m \u001b[0mdtype\u001b[0m\u001b[0;34m=\u001b[0m\u001b[0mself\u001b[0m\u001b[0;34m.\u001b[0m\u001b[0m_dtype\u001b[0m\u001b[0;34m,\u001b[0m \u001b[0mmode\u001b[0m\u001b[0;34m=\u001b[0m\u001b[0;34m\"r\"\u001b[0m\u001b[0;34m)\u001b[0m\u001b[0;34m\u001b[0m\u001b[0;34m\u001b[0m\u001b[0m\n\u001b[0m\u001b[1;32m    113\u001b[0m             \u001b[0mself\u001b[0m\u001b[0;34m.\u001b[0m\u001b[0m_fallback\u001b[0m \u001b[0;34m=\u001b[0m \u001b[0;32mNone\u001b[0m\u001b[0;34m\u001b[0m\u001b[0;34m\u001b[0m\u001b[0m\n",
      "\u001b[0;32m~/.local/perlmutter/3.9-anaconda-2021.11/lib/python3.9/site-packages/numpy/core/memmap.py\u001b[0m in \u001b[0;36m__new__\u001b[0;34m(subtype, filename, dtype, mode, offset, shape, order)\u001b[0m\n\u001b[1;32m    227\u001b[0m         \u001b[0;32melse\u001b[0m\u001b[0;34m:\u001b[0m\u001b[0;34m\u001b[0m\u001b[0;34m\u001b[0m\u001b[0m\n\u001b[0;32m--> 228\u001b[0;31m             \u001b[0mf_ctx\u001b[0m \u001b[0;34m=\u001b[0m \u001b[0mopen\u001b[0m\u001b[0;34m(\u001b[0m\u001b[0mos_fspath\u001b[0m\u001b[0;34m(\u001b[0m\u001b[0mfilename\u001b[0m\u001b[0;34m)\u001b[0m\u001b[0;34m,\u001b[0m \u001b[0;34m(\u001b[0m\u001b[0;34m'r'\u001b[0m \u001b[0;32mif\u001b[0m \u001b[0mmode\u001b[0m \u001b[0;34m==\u001b[0m \u001b[0;34m'c'\u001b[0m \u001b[0;32melse\u001b[0m \u001b[0mmode\u001b[0m\u001b[0;34m)\u001b[0m\u001b[0;34m+\u001b[0m\u001b[0;34m'b'\u001b[0m\u001b[0;34m)\u001b[0m\u001b[0;34m\u001b[0m\u001b[0;34m\u001b[0m\u001b[0m\n\u001b[0m\u001b[1;32m    229\u001b[0m \u001b[0;34m\u001b[0m\u001b[0m\n",
      "\u001b[0;31mFileNotFoundError\u001b[0m: [Errno 2] No such file or directory: 'all-h1-django.root'",
      "\nDuring handling of the above exception, another exception occurred:\n",
      "\u001b[0;31mFileNotFoundError\u001b[0m                         Traceback (most recent call last)",
      "\u001b[0;32m~/.local/perlmutter/3.9-anaconda-2021.11/lib/python3.9/site-packages/uproot/source/file.py\u001b[0m in \u001b[0;36m__init__\u001b[0;34m(self, file_path)\u001b[0m\n\u001b[1;32m     35\u001b[0m         \u001b[0;32mtry\u001b[0m\u001b[0;34m:\u001b[0m\u001b[0;34m\u001b[0m\u001b[0;34m\u001b[0m\u001b[0m\n\u001b[0;32m---> 36\u001b[0;31m             \u001b[0mself\u001b[0m\u001b[0;34m.\u001b[0m\u001b[0m_file\u001b[0m \u001b[0;34m=\u001b[0m \u001b[0mopen\u001b[0m\u001b[0;34m(\u001b[0m\u001b[0mself\u001b[0m\u001b[0;34m.\u001b[0m\u001b[0m_file_path\u001b[0m\u001b[0;34m,\u001b[0m \u001b[0;34m\"rb\"\u001b[0m\u001b[0;34m)\u001b[0m\u001b[0;34m\u001b[0m\u001b[0;34m\u001b[0m\u001b[0m\n\u001b[0m\u001b[1;32m     37\u001b[0m         \u001b[0;32mexcept\u001b[0m \u001b[0muproot\u001b[0m\u001b[0;34m.\u001b[0m\u001b[0m_util\u001b[0m\u001b[0;34m.\u001b[0m\u001b[0m_FileNotFoundError\u001b[0m \u001b[0;32mas\u001b[0m \u001b[0merr\u001b[0m\u001b[0;34m:\u001b[0m\u001b[0;34m\u001b[0m\u001b[0;34m\u001b[0m\u001b[0m\n",
      "\u001b[0;31mFileNotFoundError\u001b[0m: [Errno 2] No such file or directory: 'all-h1-django.root'",
      "\nThe above exception was the direct cause of the following exception:\n",
      "\u001b[0;31mFileNotFoundError\u001b[0m                         Traceback (most recent call last)",
      "\u001b[0;32m/tmp/ipykernel_36631/1491753057.py\u001b[0m in \u001b[0;36m<module>\u001b[0;34m\u001b[0m\n\u001b[1;32m      1\u001b[0m \u001b[0mnatural_file\u001b[0m \u001b[0;34m=\u001b[0m \u001b[0;34m\"all-h1-django.root\"\u001b[0m\u001b[0;34m\u001b[0m\u001b[0;34m\u001b[0m\u001b[0m\n\u001b[0;32m----> 2\u001b[0;31m \u001b[0mnatural_tree\u001b[0m \u001b[0;34m=\u001b[0m \u001b[0mur\u001b[0m\u001b[0;34m.\u001b[0m\u001b[0mopen\u001b[0m\u001b[0;34m(\u001b[0m\u001b[0;34m\"%s:Django/minitree\"\u001b[0m\u001b[0;34m%\u001b[0m\u001b[0;34m(\u001b[0m\u001b[0mnatural_file\u001b[0m\u001b[0;34m)\u001b[0m\u001b[0;34m)\u001b[0m\u001b[0;34m\u001b[0m\u001b[0;34m\u001b[0m\u001b[0m\n\u001b[0m\u001b[1;32m      3\u001b[0m \u001b[0mnatural_df\u001b[0m \u001b[0;34m=\u001b[0m \u001b[0mnatural_tree\u001b[0m\u001b[0;34m.\u001b[0m\u001b[0marrays\u001b[0m\u001b[0;34m(\u001b[0m\u001b[0mlibrary\u001b[0m\u001b[0;34m=\u001b[0m\u001b[0;34m\"pd\"\u001b[0m\u001b[0;34m)\u001b[0m \u001b[0;31m#open the TTree as a pandas data frame\u001b[0m\u001b[0;34m\u001b[0m\u001b[0;34m\u001b[0m\u001b[0m\n\u001b[1;32m      4\u001b[0m \u001b[0mnatural_df\u001b[0m \u001b[0;34m=\u001b[0m \u001b[0mnatural_df\u001b[0m\u001b[0;34m[\u001b[0m\u001b[0mnatural_df\u001b[0m\u001b[0;34m[\u001b[0m\u001b[0;34m\"obs_hfs_pt\"\u001b[0m\u001b[0;34m]\u001b[0m \u001b[0;34m!=\u001b[0m \u001b[0;36m0\u001b[0m\u001b[0;34m]\u001b[0m \u001b[0;31m#remove empty entries\u001b[0m\u001b[0;34m\u001b[0m\u001b[0;34m\u001b[0m\u001b[0m\n",
      "\u001b[0;32m~/.local/perlmutter/3.9-anaconda-2021.11/lib/python3.9/site-packages/uproot/reading.py\u001b[0m in \u001b[0;36mopen\u001b[0;34m(path, object_cache, array_cache, custom_classes, decompression_executor, interpretation_executor, **options)\u001b[0m\n\u001b[1;32m    139\u001b[0m         )\n\u001b[1;32m    140\u001b[0m \u001b[0;34m\u001b[0m\u001b[0m\n\u001b[0;32m--> 141\u001b[0;31m     file = ReadOnlyFile(\n\u001b[0m\u001b[1;32m    142\u001b[0m         \u001b[0mfile_path\u001b[0m\u001b[0;34m,\u001b[0m\u001b[0;34m\u001b[0m\u001b[0;34m\u001b[0m\u001b[0m\n\u001b[1;32m    143\u001b[0m         \u001b[0mobject_cache\u001b[0m\u001b[0;34m=\u001b[0m\u001b[0mobject_cache\u001b[0m\u001b[0;34m,\u001b[0m\u001b[0;34m\u001b[0m\u001b[0;34m\u001b[0m\u001b[0m\n",
      "\u001b[0;32m~/.local/perlmutter/3.9-anaconda-2021.11/lib/python3.9/site-packages/uproot/reading.py\u001b[0m in \u001b[0;36m__init__\u001b[0;34m(self, file_path, object_cache, array_cache, custom_classes, decompression_executor, interpretation_executor, **options)\u001b[0m\n\u001b[1;32m    579\u001b[0m             \u001b[0mfile_path\u001b[0m\u001b[0;34m,\u001b[0m \u001b[0mself\u001b[0m\u001b[0;34m.\u001b[0m\u001b[0m_options\u001b[0m\u001b[0;34m\u001b[0m\u001b[0;34m\u001b[0m\u001b[0m\n\u001b[1;32m    580\u001b[0m         )\n\u001b[0;32m--> 581\u001b[0;31m         self._source = Source(\n\u001b[0m\u001b[1;32m    582\u001b[0m             \u001b[0mfile_path\u001b[0m\u001b[0;34m,\u001b[0m \u001b[0;34m**\u001b[0m\u001b[0mself\u001b[0m\u001b[0;34m.\u001b[0m\u001b[0m_options\u001b[0m  \u001b[0;31m# NOTE: a comma after **options breaks Python 2\u001b[0m\u001b[0;34m\u001b[0m\u001b[0;34m\u001b[0m\u001b[0m\n\u001b[1;32m    583\u001b[0m         )\n",
      "\u001b[0;32m~/.local/perlmutter/3.9-anaconda-2021.11/lib/python3.9/site-packages/uproot/source/file.py\u001b[0m in \u001b[0;36m__init__\u001b[0;34m(self, file_path, **options)\u001b[0m\n\u001b[1;32m    106\u001b[0m \u001b[0;34m\u001b[0m\u001b[0m\n\u001b[1;32m    107\u001b[0m         \u001b[0mself\u001b[0m\u001b[0;34m.\u001b[0m\u001b[0m_file_path\u001b[0m \u001b[0;34m=\u001b[0m \u001b[0mfile_path\u001b[0m\u001b[0;34m\u001b[0m\u001b[0;34m\u001b[0m\u001b[0m\n\u001b[0;32m--> 108\u001b[0;31m         \u001b[0mself\u001b[0m\u001b[0;34m.\u001b[0m\u001b[0m_open\u001b[0m\u001b[0;34m(\u001b[0m\u001b[0;34m)\u001b[0m\u001b[0;34m\u001b[0m\u001b[0;34m\u001b[0m\u001b[0m\n\u001b[0m\u001b[1;32m    109\u001b[0m \u001b[0;34m\u001b[0m\u001b[0m\n\u001b[1;32m    110\u001b[0m     \u001b[0;32mdef\u001b[0m \u001b[0m_open\u001b[0m\u001b[0;34m(\u001b[0m\u001b[0mself\u001b[0m\u001b[0;34m)\u001b[0m\u001b[0;34m:\u001b[0m\u001b[0;34m\u001b[0m\u001b[0;34m\u001b[0m\u001b[0m\n",
      "\u001b[0;32m~/.local/perlmutter/3.9-anaconda-2021.11/lib/python3.9/site-packages/uproot/source/file.py\u001b[0m in \u001b[0;36m_open\u001b[0;34m(self)\u001b[0m\n\u001b[1;32m    116\u001b[0m             \u001b[0mopts\u001b[0m \u001b[0;34m=\u001b[0m \u001b[0mdict\u001b[0m\u001b[0;34m(\u001b[0m\u001b[0mself\u001b[0m\u001b[0;34m.\u001b[0m\u001b[0m_fallback_opts\u001b[0m\u001b[0;34m)\u001b[0m\u001b[0;34m\u001b[0m\u001b[0;34m\u001b[0m\u001b[0m\n\u001b[1;32m    117\u001b[0m             \u001b[0mopts\u001b[0m\u001b[0;34m[\u001b[0m\u001b[0;34m\"num_workers\"\u001b[0m\u001b[0;34m]\u001b[0m \u001b[0;34m=\u001b[0m \u001b[0mself\u001b[0m\u001b[0;34m.\u001b[0m\u001b[0m_num_fallback_workers\u001b[0m\u001b[0;34m\u001b[0m\u001b[0;34m\u001b[0m\u001b[0m\n\u001b[0;32m--> 118\u001b[0;31m             self._fallback = uproot.source.file.MultithreadedFileSource(\n\u001b[0m\u001b[1;32m    119\u001b[0m                 \u001b[0mself\u001b[0m\u001b[0;34m.\u001b[0m\u001b[0m_file_path\u001b[0m\u001b[0;34m,\u001b[0m \u001b[0;34m**\u001b[0m\u001b[0mopts\u001b[0m  \u001b[0;31m# NOTE: a comma after **opts breaks Python 2\u001b[0m\u001b[0;34m\u001b[0m\u001b[0;34m\u001b[0m\u001b[0m\n\u001b[1;32m    120\u001b[0m             )\n",
      "\u001b[0;32m~/.local/perlmutter/3.9-anaconda-2021.11/lib/python3.9/site-packages/uproot/source/file.py\u001b[0m in \u001b[0;36m__init__\u001b[0;34m(self, file_path, **options)\u001b[0m\n\u001b[1;32m    248\u001b[0m \u001b[0;34m\u001b[0m\u001b[0m\n\u001b[1;32m    249\u001b[0m         \u001b[0mself\u001b[0m\u001b[0;34m.\u001b[0m\u001b[0m_file_path\u001b[0m \u001b[0;34m=\u001b[0m \u001b[0mfile_path\u001b[0m\u001b[0;34m\u001b[0m\u001b[0;34m\u001b[0m\u001b[0m\n\u001b[0;32m--> 250\u001b[0;31m         \u001b[0mself\u001b[0m\u001b[0;34m.\u001b[0m\u001b[0m_open\u001b[0m\u001b[0;34m(\u001b[0m\u001b[0;34m)\u001b[0m\u001b[0;34m\u001b[0m\u001b[0;34m\u001b[0m\u001b[0m\n\u001b[0m\u001b[1;32m    251\u001b[0m \u001b[0;34m\u001b[0m\u001b[0m\n\u001b[1;32m    252\u001b[0m     \u001b[0;32mdef\u001b[0m \u001b[0m_open\u001b[0m\u001b[0;34m(\u001b[0m\u001b[0mself\u001b[0m\u001b[0;34m)\u001b[0m\u001b[0;34m:\u001b[0m\u001b[0;34m\u001b[0m\u001b[0;34m\u001b[0m\u001b[0m\n",
      "\u001b[0;32m~/.local/perlmutter/3.9-anaconda-2021.11/lib/python3.9/site-packages/uproot/source/file.py\u001b[0m in \u001b[0;36m_open\u001b[0;34m(self)\u001b[0m\n\u001b[1;32m    252\u001b[0m     \u001b[0;32mdef\u001b[0m \u001b[0m_open\u001b[0m\u001b[0;34m(\u001b[0m\u001b[0mself\u001b[0m\u001b[0;34m)\u001b[0m\u001b[0;34m:\u001b[0m\u001b[0;34m\u001b[0m\u001b[0;34m\u001b[0m\u001b[0m\n\u001b[1;32m    253\u001b[0m         self._executor = uproot.source.futures.ResourceThreadPoolExecutor(\n\u001b[0;32m--> 254\u001b[0;31m             \u001b[0;34m[\u001b[0m\u001b[0mFileResource\u001b[0m\u001b[0;34m(\u001b[0m\u001b[0mself\u001b[0m\u001b[0;34m.\u001b[0m\u001b[0m_file_path\u001b[0m\u001b[0;34m)\u001b[0m \u001b[0;32mfor\u001b[0m \u001b[0mx\u001b[0m \u001b[0;32min\u001b[0m \u001b[0mrange\u001b[0m\u001b[0;34m(\u001b[0m\u001b[0mself\u001b[0m\u001b[0;34m.\u001b[0m\u001b[0m_num_workers\u001b[0m\u001b[0;34m)\u001b[0m\u001b[0;34m]\u001b[0m\u001b[0;34m\u001b[0m\u001b[0;34m\u001b[0m\u001b[0m\n\u001b[0m\u001b[1;32m    255\u001b[0m         )\n\u001b[1;32m    256\u001b[0m         \u001b[0mself\u001b[0m\u001b[0;34m.\u001b[0m\u001b[0m_num_bytes\u001b[0m \u001b[0;34m=\u001b[0m \u001b[0mos\u001b[0m\u001b[0;34m.\u001b[0m\u001b[0mpath\u001b[0m\u001b[0;34m.\u001b[0m\u001b[0mgetsize\u001b[0m\u001b[0;34m(\u001b[0m\u001b[0mself\u001b[0m\u001b[0;34m.\u001b[0m\u001b[0m_file_path\u001b[0m\u001b[0;34m)\u001b[0m\u001b[0;34m\u001b[0m\u001b[0;34m\u001b[0m\u001b[0m\n",
      "\u001b[0;32m~/.local/perlmutter/3.9-anaconda-2021.11/lib/python3.9/site-packages/uproot/source/file.py\u001b[0m in \u001b[0;36m<listcomp>\u001b[0;34m(.0)\u001b[0m\n\u001b[1;32m    252\u001b[0m     \u001b[0;32mdef\u001b[0m \u001b[0m_open\u001b[0m\u001b[0;34m(\u001b[0m\u001b[0mself\u001b[0m\u001b[0;34m)\u001b[0m\u001b[0;34m:\u001b[0m\u001b[0;34m\u001b[0m\u001b[0;34m\u001b[0m\u001b[0m\n\u001b[1;32m    253\u001b[0m         self._executor = uproot.source.futures.ResourceThreadPoolExecutor(\n\u001b[0;32m--> 254\u001b[0;31m             \u001b[0;34m[\u001b[0m\u001b[0mFileResource\u001b[0m\u001b[0;34m(\u001b[0m\u001b[0mself\u001b[0m\u001b[0;34m.\u001b[0m\u001b[0m_file_path\u001b[0m\u001b[0;34m)\u001b[0m \u001b[0;32mfor\u001b[0m \u001b[0mx\u001b[0m \u001b[0;32min\u001b[0m \u001b[0mrange\u001b[0m\u001b[0;34m(\u001b[0m\u001b[0mself\u001b[0m\u001b[0;34m.\u001b[0m\u001b[0m_num_workers\u001b[0m\u001b[0;34m)\u001b[0m\u001b[0;34m]\u001b[0m\u001b[0;34m\u001b[0m\u001b[0;34m\u001b[0m\u001b[0m\n\u001b[0m\u001b[1;32m    255\u001b[0m         )\n\u001b[1;32m    256\u001b[0m         \u001b[0mself\u001b[0m\u001b[0;34m.\u001b[0m\u001b[0m_num_bytes\u001b[0m \u001b[0;34m=\u001b[0m \u001b[0mos\u001b[0m\u001b[0;34m.\u001b[0m\u001b[0mpath\u001b[0m\u001b[0;34m.\u001b[0m\u001b[0mgetsize\u001b[0m\u001b[0;34m(\u001b[0m\u001b[0mself\u001b[0m\u001b[0;34m.\u001b[0m\u001b[0m_file_path\u001b[0m\u001b[0;34m)\u001b[0m\u001b[0;34m\u001b[0m\u001b[0;34m\u001b[0m\u001b[0m\n",
      "\u001b[0;32m~/.local/perlmutter/3.9-anaconda-2021.11/lib/python3.9/site-packages/uproot/source/file.py\u001b[0m in \u001b[0;36m__init__\u001b[0;34m(self, file_path)\u001b[0m\n\u001b[1;32m     36\u001b[0m             \u001b[0mself\u001b[0m\u001b[0;34m.\u001b[0m\u001b[0m_file\u001b[0m \u001b[0;34m=\u001b[0m \u001b[0mopen\u001b[0m\u001b[0;34m(\u001b[0m\u001b[0mself\u001b[0m\u001b[0;34m.\u001b[0m\u001b[0m_file_path\u001b[0m\u001b[0;34m,\u001b[0m \u001b[0;34m\"rb\"\u001b[0m\u001b[0;34m)\u001b[0m\u001b[0;34m\u001b[0m\u001b[0;34m\u001b[0m\u001b[0m\n\u001b[1;32m     37\u001b[0m         \u001b[0;32mexcept\u001b[0m \u001b[0muproot\u001b[0m\u001b[0;34m.\u001b[0m\u001b[0m_util\u001b[0m\u001b[0;34m.\u001b[0m\u001b[0m_FileNotFoundError\u001b[0m \u001b[0;32mas\u001b[0m \u001b[0merr\u001b[0m\u001b[0;34m:\u001b[0m\u001b[0;34m\u001b[0m\u001b[0;34m\u001b[0m\u001b[0m\n\u001b[0;32m---> 38\u001b[0;31m             \u001b[0;32mraise\u001b[0m \u001b[0muproot\u001b[0m\u001b[0;34m.\u001b[0m\u001b[0m_util\u001b[0m\u001b[0;34m.\u001b[0m\u001b[0m_file_not_found\u001b[0m\u001b[0;34m(\u001b[0m\u001b[0mfile_path\u001b[0m\u001b[0;34m)\u001b[0m \u001b[0;32mfrom\u001b[0m \u001b[0merr\u001b[0m\u001b[0;34m\u001b[0m\u001b[0;34m\u001b[0m\u001b[0m\n\u001b[0m\u001b[1;32m     39\u001b[0m \u001b[0;34m\u001b[0m\u001b[0m\n\u001b[1;32m     40\u001b[0m     \u001b[0;34m@\u001b[0m\u001b[0mproperty\u001b[0m\u001b[0;34m\u001b[0m\u001b[0;34m\u001b[0m\u001b[0m\n",
      "\u001b[0;31mFileNotFoundError\u001b[0m: file not found\n\n    'all-h1-django.root'\n\nFiles may be specified as:\n   * str/bytes: relative or absolute filesystem path or URL, without any colons\n         other than Windows drive letter or URL schema.\n         Examples: \"rel/file.root\", \"C:\\abs\\file.root\", \"http://where/what.root\"\n   * str/bytes: same with an object-within-ROOT path, separated by a colon.\n         Example: \"rel/file.root:tdirectory/ttree\"\n   * pathlib.Path: always interpreted as a filesystem path or URL only (no\n         object-within-ROOT path), regardless of whether there are any colons.\n         Examples: Path(\"rel:/file.root\"), Path(\"/abs/path:stuff.root\")\n\nFunctions that accept many files (uproot.iterate, etc.) also allow:\n   * glob syntax in str/bytes and pathlib.Path.\n         Examples: Path(\"rel/*.root\"), \"/abs/*.root:tdirectory/ttree\"\n   * dict: keys are filesystem paths, values are objects-within-ROOT paths.\n         Example: {\"/data_v1/*.root\": \"ttree_v1\", \"/data_v2/*.root\": \"ttree_v2\"}\n   * already-open TTree objects.\n   * iterables of the above.\n"
     ]
    }
   ],
   "source": [
    "natural_file = \"all-h1-django.root\"\n",
    "natural_tree = ur.open(\"%s:Django/minitree\"%(natural_file))\n",
    "natural_df = natural_tree.arrays(library=\"pd\") #open the TTree as a pandas data frame\n",
    "natural_df = natural_df[natural_df[\"obs_hfs_pt\"] != 0] #remove empty entries"
   ]
  },
  {
   "cell_type": "markdown",
   "id": "b6f91fd0-d647-4746-bd08-6b5d9af193ab",
   "metadata": {},
   "source": [
    "### Take a quick look at the data"
   ]
  },
  {
   "cell_type": "code",
   "execution_count": null,
   "id": "e75eefd1-fe17-4d30-9aca-23d6fba7906c",
   "metadata": {},
   "outputs": [],
   "source": [
    "natural_df.describe()"
   ]
  },
  {
   "cell_type": "markdown",
   "id": "8a0e6803-a1a4-4c5f-b6e1-8d57751b08f7",
   "metadata": {},
   "source": [
    "## Import the Synthetic simulation [Rapgap], both generated and reconstructed level."
   ]
  },
  {
   "cell_type": "code",
   "execution_count": null,
   "id": "3cb960ab-40b9-4551-ba69-c37bed5c25cd",
   "metadata": {
    "tags": []
   },
   "outputs": [],
   "source": [
    "synthetic_file = \"all-h1-rapgap.root\"\n",
    "synth_tree = ur.open(\"%s:Rapgap/minitree\"%(synthetic_file))\n",
    "synth_df = synth_tree.arrays(library=\"pd\")\n",
    "synth_df = synth_df[synth_df[\"obs_hfs_pt\"] != 0]"
   ]
  },
  {
   "cell_type": "code",
   "execution_count": null,
   "id": "50564150-375a-45e9-8454-cf4d4c23b422",
   "metadata": {},
   "outputs": [],
   "source": [
    "synth_df.head(3) #look at 3 entries"
   ]
  },
  {
   "cell_type": "markdown",
   "id": "53d38c8a-99e6-43f8-ba1e-967573b2bb6f",
   "metadata": {},
   "source": [
    "### In theory, we can unfold all of the observables above _simultaneously_, but let's start with just 5!"
   ]
  },
  {
   "cell_type": "code",
   "execution_count": null,
   "id": "e9641278-1d20-4bdb-9362-b0ea19688c78",
   "metadata": {},
   "outputs": [],
   "source": [
    "obs_features = [\"obs_hfs_pt\", \"obs_hfs_eta\", \"obs_e_e\", \"obs_e_pz\", \"obs_e_eta\"]\n",
    "gen_features = [\"gen_hfs_pt\", \"gen_hfs_eta\", \"gen_e_e\", \"gen_e_pz\", \"gen_e_eta\"]\n",
    "\n",
    "labels = [\"HFS $p_\\mathrm{T}$ [GeV]\", \"HFS $\\eta$\", \"Electron $E$ [GeV]\",\"Electron $p_z$\", \"Electron $\\eta$\"]"
   ]
  },
  {
   "cell_type": "code",
   "execution_count": null,
   "id": "61e2d71c-b0ba-49b0-b087-7575dba1fb53",
   "metadata": {},
   "outputs": [],
   "source": [
    "theta_unknown_S = natural_df[obs_features].to_numpy() #Reconstructed Data\n",
    "theta_unknown_G = natural_df[gen_features].to_numpy() #Nature, which unfolded data approaches\n",
    "\n",
    "theta0_S = synth_df[obs_features].to_numpy() #Simulated, synthetic reco-level\n",
    "theta0_G = synth_df[gen_features].to_numpy() #Generated, synthetic truth-level"
   ]
  },
  {
   "cell_type": "code",
   "execution_count": null,
   "id": "c3c464be-f4fe-4fcd-b420-88a43d20e9f6",
   "metadata": {},
   "outputs": [],
   "source": [
    "#We could have loaded the TTree directly into numpy, but pandas makes it easier to clean/debug the data initially"
   ]
  },
  {
   "cell_type": "markdown",
   "id": "9d3f392e-b84d-47a3-bece-508bca2f4f5a",
   "metadata": {},
   "source": [
    "### Ensure the samples have the same number of events"
   ]
  },
  {
   "cell_type": "code",
   "execution_count": null,
   "id": "6f180e2a-2411-4725-a7d7-df946242fb54",
   "metadata": {},
   "outputs": [],
   "source": [
    "N_Events = min(np.shape(theta0_S)[0],np.shape(theta_unknown_S)[0])-1\n",
    "\n",
    "theta0_S = theta0_S[:N_Events]\n",
    "theta0_G = theta0_G[:N_Events]\n",
    "theta_unknown_S = theta_unknown_S[:N_Events]\n",
    "theta_unknown_G = theta_unknown_G[:N_Events]"
   ]
  },
  {
   "cell_type": "code",
   "execution_count": null,
   "id": "fb429ef3-f0fe-4fa7-b9c4-9f4e7564913a",
   "metadata": {},
   "outputs": [],
   "source": [
    "N = len(obs_features)\n",
    "\n",
    "binning = [np.linspace(0,80,100),np.linspace(-2,6,100),\n",
    "           np.linspace(10,80,100),np.linspace(-10,40,100),np.linspace(-2,2,100)]\n",
    "\n",
    "fig, axes = plt.subplots(2, 3, figsize=(15,7))\n",
    "\n",
    "for i,ax in enumerate(axes.ravel()):\n",
    "    if (i >= N): break\n",
    "    _,_,_=ax.hist(theta0_G[:,i],binning[i],color='blue',alpha=0.5,label=\"MC, true\")\n",
    "    _,_,_=ax.hist(theta0_S[:,i],binning[i],histtype=\"step\",color='black',ls=':',label=\"MC, reco\")\n",
    "    _,_,_=ax.hist(theta_unknown_G[:,i],binning[i],color='orange',alpha=0.5,label=\"Data, true\")\n",
    "    _,_,_=ax.hist(theta_unknown_S[:,i],binning[i],histtype=\"step\",color='black',label=\"Data, reco\")\n",
    "\n",
    "    ax.set_title(labels[i])\n",
    "    ax.set_xlabel(labels[i])\n",
    "    ax.set_ylabel(\"Events\")\n",
    "    ax.legend(frameon=False)\n",
    "    \n",
    "fig.tight_layout()"
   ]
  },
  {
   "cell_type": "code",
   "execution_count": null,
   "id": "ce3a8d57-5640-487a-a722-3efe79f18540",
   "metadata": {},
   "outputs": [],
   "source": [
    "inputs = Input((len(obs_features), ))\n",
    "hidden_layer_1 = Dense(50, activation='relu')(inputs)\n",
    "hidden_layer_2 = Dense(50, activation='relu')(hidden_layer_1)\n",
    "hidden_layer_3 = Dense(50, activation='relu')(hidden_layer_2)\n",
    "outputs = Dense(1, activation='sigmoid')(hidden_layer_3)\n",
    "model_dis = Model(inputs=inputs, outputs=outputs)"
   ]
  },
  {
   "cell_type": "code",
   "execution_count": null,
   "id": "2538e0db-feb5-45c8-97b4-1f974ab885d1",
   "metadata": {},
   "outputs": [],
   "source": [
    "N_Iterations = 2\n",
    "\n",
    "myweights = of.omnifold(theta0_G,theta0_S,theta_unknown_S,N_Iterations,model_dis)"
   ]
  },
  {
   "cell_type": "code",
   "execution_count": null,
   "id": "bfe66aad-d784-490f-aba7-bf38d7857163",
   "metadata": {},
   "outputs": [],
   "source": [
    "fig, axes = plt.subplots(2, 3, figsize=(15,7))\n",
    "\n",
    "for i,ax in enumerate(axes.ravel()):\n",
    "    if (i >= N): break\n",
    "    _,_,_=ax.hist(theta0_G[:,i],binning[i],color='blue',alpha=0.5,label=\"MC, true\")\n",
    "    _,_,_=ax.hist(theta_unknown_G[:,i],binning[i],color='orange',alpha=0.5,label=\"Data, true\")\n",
    "    _,_,_=ax.hist(theta0_G[:,i],weights=myweights[-1, 0, :],bins=binning[i],color='black',histtype=\"step\",label=\"OmniFolded\",lw=\"2\")\n",
    "\n",
    "    ax.set_title(labels[i])\n",
    "    ax.set_xlabel(labels[i])\n",
    "    ax.set_ylabel(\"Events\")\n",
    "    ax.legend(frameon=False)\n",
    "    \n",
    "fig.tight_layout()"
   ]
  },
  {
   "cell_type": "markdown",
   "id": "10bfb0ef-f8f7-4ec5-b230-694e755bc223",
   "metadata": {},
   "source": [
    "___\n",
    "___"
   ]
  },
  {
   "cell_type": "markdown",
   "id": "cc306ff8-934b-49ae-884b-3592f709b309",
   "metadata": {},
   "source": [
    "# OmniFold: DIY"
   ]
  },
  {
   "cell_type": "markdown",
   "id": "b76a4e6e-4da3-4c28-ab4d-a52004b728a0",
   "metadata": {},
   "source": [
    "### 1. Add Features, or create your own. Add iterations to the unfolding\n",
    "careful adding both: might take a while!"
   ]
  },
  {
   "cell_type": "markdown",
   "id": "db931825-c084-4acc-ba7f-cd45955e3597",
   "metadata": {},
   "source": [
    "### 2. Plot _unfolded_ electron observables: $\\Sigma_e = E_e - p_{z,e}, \\ \\ \\theta = 2\\arctan(e^{-\\eta})$"
   ]
  },
  {
   "cell_type": "markdown",
   "id": "d5dafec1-fb61-4039-af7d-134808e78dbc",
   "metadata": {
    "tags": []
   },
   "source": [
    "hint: unfolded distributions are just weighted histograms"
   ]
  },
  {
   "cell_type": "markdown",
   "id": "c5aa472f-efa5-4ecf-a321-311f51c24c6f",
   "metadata": {},
   "source": [
    "### 3. Plot at _unfolded_ x,y, and $Q^2$ distribution"
   ]
  },
  {
   "cell_type": "markdown",
   "id": "bf53ca3c-0f4f-479d-bc38-a25e84a5dac2",
   "metadata": {
    "tags": []
   },
   "source": [
    "Hint: $y = 1-\\frac{\\Sigma_e}{2E_0}, \\ \\ Q^2 = \\frac{E^2sin^2\\theta}{1-y}, \\ \\ x\\cdot E_p = \\frac{E(1+\\cos\\theta)}{2y}$"
   ]
  },
  {
   "cell_type": "code",
   "execution_count": null,
   "id": "af7ec6b5-e2f1-4d71-8507-14f2ec5f913e",
   "metadata": {},
   "outputs": [],
   "source": []
  }
 ],
 "metadata": {
  "kernelspec": {
   "display_name": "Python 3",
   "language": "python",
   "name": "python3"
  },
  "language_info": {
   "codemirror_mode": {
    "name": "ipython",
    "version": 3
   },
   "file_extension": ".py",
   "mimetype": "text/x-python",
   "name": "python",
   "nbconvert_exporter": "python",
   "pygments_lexer": "ipython3",
   "version": "3.6.8"
  }
 },
 "nbformat": 4,
 "nbformat_minor": 5
}
